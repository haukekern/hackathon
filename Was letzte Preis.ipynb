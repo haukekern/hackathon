{
 "cells": [
  {
   "cell_type": "code",
   "execution_count": 1,
   "metadata": {},
   "outputs": [],
   "source": [
    "import numpy as np\n",
    "import matplotlib.pyplot as plt\n",
    "%matplotlib inline\n",
    "import pandas as pd\n",
    "from sklearn.linear_model import LinearRegression\n",
    "from datetime import datetime\n",
    "from sklearn.svm import SVR\n",
    "from sklearn.pipeline import make_pipeline\n",
    "from sklearn.preprocessing import StandardScaler"
   ]
  },
  {
   "cell_type": "code",
   "execution_count": 2,
   "metadata": {},
   "outputs": [],
   "source": [
    "df = pd.read_csv(\"WasLetztePreis/WasLetztePreis_training.csv\")"
   ]
  },
  {
   "cell_type": "code",
   "execution_count": 3,
   "metadata": {},
   "outputs": [
    {
     "data": {
      "text/html": [
       "<div>\n",
       "<style scoped>\n",
       "    .dataframe tbody tr th:only-of-type {\n",
       "        vertical-align: middle;\n",
       "    }\n",
       "\n",
       "    .dataframe tbody tr th {\n",
       "        vertical-align: top;\n",
       "    }\n",
       "\n",
       "    .dataframe thead th {\n",
       "        text-align: right;\n",
       "    }\n",
       "</style>\n",
       "<table border=\"1\" class=\"dataframe\">\n",
       "  <thead>\n",
       "    <tr style=\"text-align: right;\">\n",
       "      <th></th>\n",
       "      <th>id</th>\n",
       "      <th>preis</th>\n",
       "      <th>marke</th>\n",
       "      <th>model</th>\n",
       "      <th>bauform</th>\n",
       "      <th>kraftstoff</th>\n",
       "      <th>getriebe</th>\n",
       "      <th>ps</th>\n",
       "      <th>kilometerstand</th>\n",
       "      <th>erstzulassung</th>\n",
       "      <th>gebiet</th>\n",
       "      <th>verkaufsdatum</th>\n",
       "    </tr>\n",
       "  </thead>\n",
       "  <tbody>\n",
       "    <tr>\n",
       "      <th>0</th>\n",
       "      <td>100000</td>\n",
       "      <td>1000.0</td>\n",
       "      <td>audi</td>\n",
       "      <td>80</td>\n",
       "      <td>limousine</td>\n",
       "      <td>benzin</td>\n",
       "      <td>manuell</td>\n",
       "      <td>90</td>\n",
       "      <td>150000</td>\n",
       "      <td>1994</td>\n",
       "      <td>25853</td>\n",
       "      <td>2016-03-20</td>\n",
       "    </tr>\n",
       "    <tr>\n",
       "      <th>1</th>\n",
       "      <td>100001</td>\n",
       "      <td>23750.0</td>\n",
       "      <td>volkswagen</td>\n",
       "      <td>golf</td>\n",
       "      <td>limousine</td>\n",
       "      <td>benzin</td>\n",
       "      <td>automatik</td>\n",
       "      <td>230</td>\n",
       "      <td>60000</td>\n",
       "      <td>2013</td>\n",
       "      <td>31812</td>\n",
       "      <td>2016-03-28</td>\n",
       "    </tr>\n",
       "    <tr>\n",
       "      <th>2</th>\n",
       "      <td>100002</td>\n",
       "      <td>6750.0</td>\n",
       "      <td>bmw</td>\n",
       "      <td>3er</td>\n",
       "      <td>coupe</td>\n",
       "      <td>benzin</td>\n",
       "      <td>automatik</td>\n",
       "      <td>192</td>\n",
       "      <td>100000</td>\n",
       "      <td>2001</td>\n",
       "      <td>24398</td>\n",
       "      <td>2016-04-07</td>\n",
       "    </tr>\n",
       "    <tr>\n",
       "      <th>3</th>\n",
       "      <td>100003</td>\n",
       "      <td>9750.0</td>\n",
       "      <td>volkswagen</td>\n",
       "      <td>kaefer</td>\n",
       "      <td>limousine</td>\n",
       "      <td>NaN</td>\n",
       "      <td>NaN</td>\n",
       "      <td>0</td>\n",
       "      <td>40000</td>\n",
       "      <td>1985</td>\n",
       "      <td>48163</td>\n",
       "      <td>2016-03-21</td>\n",
       "    </tr>\n",
       "    <tr>\n",
       "      <th>4</th>\n",
       "      <td>100004</td>\n",
       "      <td>19999.0</td>\n",
       "      <td>mercedes_benz</td>\n",
       "      <td>c_klasse</td>\n",
       "      <td>cabrio</td>\n",
       "      <td>benzin</td>\n",
       "      <td>manuell</td>\n",
       "      <td>156</td>\n",
       "      <td>40000</td>\n",
       "      <td>2011</td>\n",
       "      <td>74078</td>\n",
       "      <td>2016-03-17</td>\n",
       "    </tr>\n",
       "    <tr>\n",
       "      <th>...</th>\n",
       "      <td>...</td>\n",
       "      <td>...</td>\n",
       "      <td>...</td>\n",
       "      <td>...</td>\n",
       "      <td>...</td>\n",
       "      <td>...</td>\n",
       "      <td>...</td>\n",
       "      <td>...</td>\n",
       "      <td>...</td>\n",
       "      <td>...</td>\n",
       "      <td>...</td>\n",
       "      <td>...</td>\n",
       "    </tr>\n",
       "    <tr>\n",
       "      <th>249995</th>\n",
       "      <td>349995</td>\n",
       "      <td>NaN</td>\n",
       "      <td>opel</td>\n",
       "      <td>corsa</td>\n",
       "      <td>kleinwagen</td>\n",
       "      <td>benzin</td>\n",
       "      <td>manuell</td>\n",
       "      <td>75</td>\n",
       "      <td>150000</td>\n",
       "      <td>2002</td>\n",
       "      <td>48429</td>\n",
       "      <td>2016-03-21</td>\n",
       "    </tr>\n",
       "    <tr>\n",
       "      <th>249996</th>\n",
       "      <td>349996</td>\n",
       "      <td>NaN</td>\n",
       "      <td>honda</td>\n",
       "      <td>jazz</td>\n",
       "      <td>kleinwagen</td>\n",
       "      <td>benzin</td>\n",
       "      <td>manuell</td>\n",
       "      <td>99</td>\n",
       "      <td>50000</td>\n",
       "      <td>2012</td>\n",
       "      <td>22880</td>\n",
       "      <td>2016-03-28</td>\n",
       "    </tr>\n",
       "    <tr>\n",
       "      <th>249997</th>\n",
       "      <td>349997</td>\n",
       "      <td>NaN</td>\n",
       "      <td>volkswagen</td>\n",
       "      <td>golf</td>\n",
       "      <td>kleinwagen</td>\n",
       "      <td>benzin</td>\n",
       "      <td>manuell</td>\n",
       "      <td>75</td>\n",
       "      <td>150000</td>\n",
       "      <td>1998</td>\n",
       "      <td>79713</td>\n",
       "      <td>2016-04-04</td>\n",
       "    </tr>\n",
       "    <tr>\n",
       "      <th>249998</th>\n",
       "      <td>349998</td>\n",
       "      <td>NaN</td>\n",
       "      <td>audi</td>\n",
       "      <td>a3</td>\n",
       "      <td>limousine</td>\n",
       "      <td>diesel</td>\n",
       "      <td>manuell</td>\n",
       "      <td>140</td>\n",
       "      <td>125000</td>\n",
       "      <td>2007</td>\n",
       "      <td>83730</td>\n",
       "      <td>2016-04-07</td>\n",
       "    </tr>\n",
       "    <tr>\n",
       "      <th>249999</th>\n",
       "      <td>349999</td>\n",
       "      <td>NaN</td>\n",
       "      <td>bmw</td>\n",
       "      <td>5er</td>\n",
       "      <td>kombi</td>\n",
       "      <td>diesel</td>\n",
       "      <td>automatik</td>\n",
       "      <td>163</td>\n",
       "      <td>150000</td>\n",
       "      <td>2001</td>\n",
       "      <td>27616</td>\n",
       "      <td>2016-04-06</td>\n",
       "    </tr>\n",
       "  </tbody>\n",
       "</table>\n",
       "<p>250000 rows × 12 columns</p>\n",
       "</div>"
      ],
      "text/plain": [
       "            id    preis          marke     model     bauform kraftstoff  \\\n",
       "0       100000   1000.0           audi        80   limousine     benzin   \n",
       "1       100001  23750.0     volkswagen      golf   limousine     benzin   \n",
       "2       100002   6750.0            bmw       3er       coupe     benzin   \n",
       "3       100003   9750.0     volkswagen    kaefer   limousine        NaN   \n",
       "4       100004  19999.0  mercedes_benz  c_klasse      cabrio     benzin   \n",
       "...        ...      ...            ...       ...         ...        ...   \n",
       "249995  349995      NaN           opel     corsa  kleinwagen     benzin   \n",
       "249996  349996      NaN          honda      jazz  kleinwagen     benzin   \n",
       "249997  349997      NaN     volkswagen      golf  kleinwagen     benzin   \n",
       "249998  349998      NaN           audi        a3   limousine     diesel   \n",
       "249999  349999      NaN            bmw       5er       kombi     diesel   \n",
       "\n",
       "         getriebe   ps  kilometerstand  erstzulassung  gebiet verkaufsdatum  \n",
       "0         manuell   90          150000           1994   25853    2016-03-20  \n",
       "1       automatik  230           60000           2013   31812    2016-03-28  \n",
       "2       automatik  192          100000           2001   24398    2016-04-07  \n",
       "3             NaN    0           40000           1985   48163    2016-03-21  \n",
       "4         manuell  156           40000           2011   74078    2016-03-17  \n",
       "...           ...  ...             ...            ...     ...           ...  \n",
       "249995    manuell   75          150000           2002   48429    2016-03-21  \n",
       "249996    manuell   99           50000           2012   22880    2016-03-28  \n",
       "249997    manuell   75          150000           1998   79713    2016-04-04  \n",
       "249998    manuell  140          125000           2007   83730    2016-04-07  \n",
       "249999  automatik  163          150000           2001   27616    2016-04-06  \n",
       "\n",
       "[250000 rows x 12 columns]"
      ]
     },
     "execution_count": 3,
     "metadata": {},
     "output_type": "execute_result"
    }
   ],
   "source": [
    "df"
   ]
  },
  {
   "cell_type": "code",
   "execution_count": 4,
   "metadata": {},
   "outputs": [],
   "source": [
    "traindata = df.loc[df[\"preis\"].notnull()]"
   ]
  },
  {
   "cell_type": "code",
   "execution_count": 9,
   "metadata": {},
   "outputs": [],
   "source": [
    "marken_dummies = pd.get_dummies(traindata[\"marke\"]).add_prefix(\"marke_\")\n",
    "bauform_dummies = pd.get_dummies(traindata[\"bauform\"]).add_prefix(\"bauform_\")\n",
    "kraftstoff_dummies = pd.get_dummies(traindata[\"kraftstoff\"]).add_prefix(\"kraftstoff_\")\n",
    "getriebe_dummies = pd.get_dummies(traindata[\"getriebe\"]).add_prefix(\"getriebe_\")"
   ]
  },
  {
   "cell_type": "code",
   "execution_count": 13,
   "metadata": {},
   "outputs": [],
   "source": [
    "train2 = pd.concat([traindata[[\"ps\", \"kilometerstand\", \"erstzulassung\", \"gebiet\"]], marken_dummies, bauform_dummies, kraftstoff_dummies, getriebe_dummies], axis=1)"
   ]
  },
  {
   "cell_type": "code",
   "execution_count": 19,
   "metadata": {},
   "outputs": [],
   "source": [
    "\n",
    "traindata = traindata.assign(verkaufsdatum_int = traindata[\"verkaufsdatum\"].map(datum_to_int))"
   ]
  },
  {
   "cell_type": "code",
   "execution_count": 14,
   "metadata": {},
   "outputs": [
    {
     "data": {
      "text/plain": [
       "Index(['ps', 'kilometerstand', 'erstzulassung', 'gebiet', 'marke_alfa_romeo',\n",
       "       'marke_audi', 'marke_bmw', 'marke_chevrolet', 'marke_chrysler',\n",
       "       'marke_citroen', 'marke_dacia', 'marke_daewoo', 'marke_daihatsu',\n",
       "       'marke_fiat', 'marke_ford', 'marke_honda', 'marke_hyundai',\n",
       "       'marke_jaguar', 'marke_jeep', 'marke_kia', 'marke_lada', 'marke_lancia',\n",
       "       'marke_land_rover', 'marke_mazda', 'marke_mercedes_benz', 'marke_mini',\n",
       "       'marke_mitsubishi', 'marke_nissan', 'marke_opel', 'marke_peugeot',\n",
       "       'marke_porsche', 'marke_renault', 'marke_rover', 'marke_saab',\n",
       "       'marke_seat', 'marke_skoda', 'marke_smart', 'marke_sonstige_autos',\n",
       "       'marke_subaru', 'marke_suzuki', 'marke_toyota', 'marke_trabant',\n",
       "       'marke_volkswagen', 'marke_volvo', 'bauform_cabrio', 'bauform_coupe',\n",
       "       'bauform_kleinwagen', 'bauform_kombi', 'bauform_limousine',\n",
       "       'bauform_suv', 'kraftstoff_andere', 'kraftstoff_benzin',\n",
       "       'kraftstoff_cng', 'kraftstoff_diesel', 'kraftstoff_elektro',\n",
       "       'kraftstoff_hybrid', 'kraftstoff_lpg', 'getriebe_automatik',\n",
       "       'getriebe_manuell'],\n",
       "      dtype='object')"
      ]
     },
     "execution_count": 14,
     "metadata": {},
     "output_type": "execute_result"
    }
   ],
   "source": [
    "train2.columns"
   ]
  },
  {
   "cell_type": "code",
   "execution_count": 42,
   "metadata": {},
   "outputs": [],
   "source": [
    "regr = make_pipeline(StandardScaler(), SVR(C=1.0, epsilon=0.2))"
   ]
  },
  {
   "cell_type": "code",
   "execution_count": 15,
   "metadata": {},
   "outputs": [
    {
     "data": {
      "text/plain": [
       "LinearRegression()"
      ]
     },
     "execution_count": 15,
     "metadata": {},
     "output_type": "execute_result"
    }
   ],
   "source": [
    "lr = LinearRegression()\n",
    "\n",
    "X_train = train2.values\n",
    " \n",
    "Y_train = traindata[\"preis\"]\n",
    " \n",
    "lr.fit(X_train,Y_train)  "
   ]
  },
  {
   "cell_type": "code",
   "execution_count": 17,
   "metadata": {},
   "outputs": [],
   "source": [
    "testdata = df.loc[df[\"preis\"].isnull()]\n",
    "\n",
    "marken_dummies1 = pd.get_dummies(testdata[\"marke\"]).add_prefix(\"marke_\")\n",
    "bauform_dummies1 = pd.get_dummies(testdata[\"bauform\"]).add_prefix(\"bauform_\")\n",
    "kraftstoff_dummies1 = pd.get_dummies(testdata[\"kraftstoff\"]).add_prefix(\"kraftstoff_\")\n",
    "getriebe_dummies1 = pd.get_dummies(testdata[\"getriebe\"]).add_prefix(\"getriebe_\")\n",
    "\n",
    "test2 = pd.concat([testdata[[\"ps\", \"kilometerstand\", \"erstzulassung\", \"gebiet\"]], marken_dummies1, bauform_dummies1, kraftstoff_dummies1, getriebe_dummies1], axis=1)"
   ]
  },
  {
   "cell_type": "code",
   "execution_count": 18,
   "metadata": {},
   "outputs": [],
   "source": [
    "\n",
    "Y = lr.predict(test2.values)"
   ]
  },
  {
   "cell_type": "code",
   "execution_count": 19,
   "metadata": {},
   "outputs": [],
   "source": [
    "solution = pd.DataFrame({\"id\": testdata[\"id\"], \"preis\": Y})"
   ]
  },
  {
   "cell_type": "code",
   "execution_count": 20,
   "metadata": {},
   "outputs": [
    {
     "data": {
      "text/plain": [
       "array([300002.        ,   1794.40496864])"
      ]
     },
     "execution_count": 20,
     "metadata": {},
     "output_type": "execute_result"
    }
   ],
   "source": [
    "svs = solution.values\n",
    "\n",
    "svs[:10][2]"
   ]
  },
  {
   "cell_type": "code",
   "execution_count": 21,
   "metadata": {},
   "outputs": [],
   "source": [
    "with open(\"letztepreis_solution1.txt\", \"w\") as f:\n",
    "    f.write(\"50fd85bdaa1c8d7b910d4602121085fa2e62616635e7d9593ed80d721db68b90\\n\")\n",
    "    f.write(\"wlp-test2\\n\")\n",
    "    f.write(\"\\n\".join([str(int(line[0])) + \" \" + str(int(line[1])) for line in svs]) + \"\\n\")"
   ]
  },
  {
   "cell_type": "code",
   "execution_count": null,
   "metadata": {},
   "outputs": [],
   "source": []
  }
 ],
 "metadata": {
  "kernelspec": {
   "display_name": "Python 3",
   "language": "python",
   "name": "python3"
  },
  "language_info": {
   "codemirror_mode": {
    "name": "ipython",
    "version": 3
   },
   "file_extension": ".py",
   "mimetype": "text/x-python",
   "name": "python",
   "nbconvert_exporter": "python",
   "pygments_lexer": "ipython3",
   "version": "3.7.7"
  }
 },
 "nbformat": 4,
 "nbformat_minor": 4
}
