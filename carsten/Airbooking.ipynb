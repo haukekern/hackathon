{
 "cells": [
  {
   "cell_type": "code",
   "execution_count": 27,
   "metadata": {},
   "outputs": [],
   "source": [
    "import numpy as np\n",
    "import matplotlib.pyplot as plt\n",
    "%matplotlib inline\n",
    "import pandas as pd\n",
    "from sklearn.linear_model import LinearRegression,SGDRegressor\n",
    "from datetime import datetime\n",
    "from sklearn.pipeline import make_pipeline\n",
    "from sklearn.preprocessing import StandardScaler\n",
    "from sklearn.tree import DecisionTreeRegressor\n",
    "from sklearn.ensemble import RandomForestRegressor\n",
    "from sklearn.preprocessing import LabelEncoder"
   ]
  },
  {
   "cell_type": "code",
   "execution_count": 46,
   "metadata": {},
   "outputs": [],
   "source": [
    "df = pd.read_csv(\"AirBookingDirekt24/AirBookingDirekt24_training.csv\")"
   ]
  },
  {
   "cell_type": "code",
   "execution_count": 47,
   "metadata": {},
   "outputs": [
    {
     "data": {
      "text/html": [
       "<div>\n",
       "<style scoped>\n",
       "    .dataframe tbody tr th:only-of-type {\n",
       "        vertical-align: middle;\n",
       "    }\n",
       "\n",
       "    .dataframe tbody tr th {\n",
       "        vertical-align: top;\n",
       "    }\n",
       "\n",
       "    .dataframe thead th {\n",
       "        text-align: right;\n",
       "    }\n",
       "</style>\n",
       "<table border=\"1\" class=\"dataframe\">\n",
       "  <thead>\n",
       "    <tr style=\"text-align: right;\">\n",
       "      <th></th>\n",
       "      <th>id</th>\n",
       "      <th>preis</th>\n",
       "      <th>endreinigung</th>\n",
       "      <th>typ</th>\n",
       "      <th>stadt</th>\n",
       "      <th>stadtteil</th>\n",
       "      <th>lat</th>\n",
       "      <th>lon</th>\n",
       "      <th>bewertungen</th>\n",
       "      <th>bewertung</th>\n",
       "      <th>...</th>\n",
       "      <th>badewanne</th>\n",
       "      <th>kaffeemaschine</th>\n",
       "      <th>geschirrspueler</th>\n",
       "      <th>ebenerdig</th>\n",
       "      <th>kuehlschrank</th>\n",
       "      <th>rauchen</th>\n",
       "      <th>haustiere</th>\n",
       "      <th>hochstuhl</th>\n",
       "      <th>kinderkrippe</th>\n",
       "      <th>spielekonsole</th>\n",
       "    </tr>\n",
       "  </thead>\n",
       "  <tbody>\n",
       "    <tr>\n",
       "      <th>0</th>\n",
       "      <td>10000</td>\n",
       "      <td>160.0</td>\n",
       "      <td>1</td>\n",
       "      <td>Apartment</td>\n",
       "      <td>SF</td>\n",
       "      <td>Noe Valley</td>\n",
       "      <td>37.743109</td>\n",
       "      <td>-122.429418</td>\n",
       "      <td>10</td>\n",
       "      <td>96</td>\n",
       "      <td>...</td>\n",
       "      <td>0</td>\n",
       "      <td>0</td>\n",
       "      <td>0</td>\n",
       "      <td>0</td>\n",
       "      <td>0</td>\n",
       "      <td>0</td>\n",
       "      <td>0</td>\n",
       "      <td>0</td>\n",
       "      <td>0</td>\n",
       "      <td>0</td>\n",
       "    </tr>\n",
       "    <tr>\n",
       "      <th>1</th>\n",
       "      <td>10001</td>\n",
       "      <td>200.0</td>\n",
       "      <td>1</td>\n",
       "      <td>Apartment</td>\n",
       "      <td>NYC</td>\n",
       "      <td>Battery Park City</td>\n",
       "      <td>40.718417</td>\n",
       "      <td>-74.015227</td>\n",
       "      <td>4</td>\n",
       "      <td>100</td>\n",
       "      <td>...</td>\n",
       "      <td>0</td>\n",
       "      <td>0</td>\n",
       "      <td>0</td>\n",
       "      <td>0</td>\n",
       "      <td>0</td>\n",
       "      <td>0</td>\n",
       "      <td>0</td>\n",
       "      <td>0</td>\n",
       "      <td>0</td>\n",
       "      <td>0</td>\n",
       "    </tr>\n",
       "    <tr>\n",
       "      <th>2</th>\n",
       "      <td>10002</td>\n",
       "      <td>85.0</td>\n",
       "      <td>0</td>\n",
       "      <td>Apartment</td>\n",
       "      <td>LA</td>\n",
       "      <td>Hollywood Hills</td>\n",
       "      <td>34.109349</td>\n",
       "      <td>-118.323667</td>\n",
       "      <td>5</td>\n",
       "      <td>92</td>\n",
       "      <td>...</td>\n",
       "      <td>0</td>\n",
       "      <td>0</td>\n",
       "      <td>0</td>\n",
       "      <td>0</td>\n",
       "      <td>0</td>\n",
       "      <td>0</td>\n",
       "      <td>0</td>\n",
       "      <td>0</td>\n",
       "      <td>0</td>\n",
       "      <td>0</td>\n",
       "    </tr>\n",
       "    <tr>\n",
       "      <th>3</th>\n",
       "      <td>10003</td>\n",
       "      <td>160.0</td>\n",
       "      <td>1</td>\n",
       "      <td>Apartment</td>\n",
       "      <td>NYC</td>\n",
       "      <td>Greenpoint</td>\n",
       "      <td>40.722155</td>\n",
       "      <td>-73.942034</td>\n",
       "      <td>0</td>\n",
       "      <td>0</td>\n",
       "      <td>...</td>\n",
       "      <td>0</td>\n",
       "      <td>0</td>\n",
       "      <td>0</td>\n",
       "      <td>0</td>\n",
       "      <td>0</td>\n",
       "      <td>0</td>\n",
       "      <td>0</td>\n",
       "      <td>0</td>\n",
       "      <td>0</td>\n",
       "      <td>0</td>\n",
       "    </tr>\n",
       "    <tr>\n",
       "      <th>4</th>\n",
       "      <td>10004</td>\n",
       "      <td>130.0</td>\n",
       "      <td>1</td>\n",
       "      <td>Apartment</td>\n",
       "      <td>NYC</td>\n",
       "      <td>Kips Bay</td>\n",
       "      <td>40.740924</td>\n",
       "      <td>-73.979927</td>\n",
       "      <td>2</td>\n",
       "      <td>100</td>\n",
       "      <td>...</td>\n",
       "      <td>0</td>\n",
       "      <td>0</td>\n",
       "      <td>0</td>\n",
       "      <td>0</td>\n",
       "      <td>1</td>\n",
       "      <td>0</td>\n",
       "      <td>0</td>\n",
       "      <td>0</td>\n",
       "      <td>0</td>\n",
       "      <td>0</td>\n",
       "    </tr>\n",
       "    <tr>\n",
       "      <th>...</th>\n",
       "      <td>...</td>\n",
       "      <td>...</td>\n",
       "      <td>...</td>\n",
       "      <td>...</td>\n",
       "      <td>...</td>\n",
       "      <td>...</td>\n",
       "      <td>...</td>\n",
       "      <td>...</td>\n",
       "      <td>...</td>\n",
       "      <td>...</td>\n",
       "      <td>...</td>\n",
       "      <td>...</td>\n",
       "      <td>...</td>\n",
       "      <td>...</td>\n",
       "      <td>...</td>\n",
       "      <td>...</td>\n",
       "      <td>...</td>\n",
       "      <td>...</td>\n",
       "      <td>...</td>\n",
       "      <td>...</td>\n",
       "      <td>...</td>\n",
       "    </tr>\n",
       "    <tr>\n",
       "      <th>24995</th>\n",
       "      <td>34995</td>\n",
       "      <td>NaN</td>\n",
       "      <td>1</td>\n",
       "      <td>Apartment</td>\n",
       "      <td>DC</td>\n",
       "      <td>Stronghold</td>\n",
       "      <td>38.925433</td>\n",
       "      <td>-77.007269</td>\n",
       "      <td>154</td>\n",
       "      <td>96</td>\n",
       "      <td>...</td>\n",
       "      <td>1</td>\n",
       "      <td>0</td>\n",
       "      <td>0</td>\n",
       "      <td>0</td>\n",
       "      <td>0</td>\n",
       "      <td>0</td>\n",
       "      <td>0</td>\n",
       "      <td>0</td>\n",
       "      <td>0</td>\n",
       "      <td>1</td>\n",
       "    </tr>\n",
       "    <tr>\n",
       "      <th>24996</th>\n",
       "      <td>34996</td>\n",
       "      <td>NaN</td>\n",
       "      <td>1</td>\n",
       "      <td>Apartment</td>\n",
       "      <td>Boston</td>\n",
       "      <td>North End</td>\n",
       "      <td>42.364847</td>\n",
       "      <td>-71.052334</td>\n",
       "      <td>94</td>\n",
       "      <td>89</td>\n",
       "      <td>...</td>\n",
       "      <td>0</td>\n",
       "      <td>0</td>\n",
       "      <td>0</td>\n",
       "      <td>0</td>\n",
       "      <td>0</td>\n",
       "      <td>0</td>\n",
       "      <td>1</td>\n",
       "      <td>0</td>\n",
       "      <td>0</td>\n",
       "      <td>0</td>\n",
       "    </tr>\n",
       "    <tr>\n",
       "      <th>24997</th>\n",
       "      <td>34997</td>\n",
       "      <td>NaN</td>\n",
       "      <td>1</td>\n",
       "      <td>Apartment</td>\n",
       "      <td>Boston</td>\n",
       "      <td>Dorchester</td>\n",
       "      <td>42.318314</td>\n",
       "      <td>-71.064099</td>\n",
       "      <td>43</td>\n",
       "      <td>93</td>\n",
       "      <td>...</td>\n",
       "      <td>0</td>\n",
       "      <td>1</td>\n",
       "      <td>0</td>\n",
       "      <td>0</td>\n",
       "      <td>1</td>\n",
       "      <td>0</td>\n",
       "      <td>0</td>\n",
       "      <td>0</td>\n",
       "      <td>0</td>\n",
       "      <td>0</td>\n",
       "    </tr>\n",
       "    <tr>\n",
       "      <th>24998</th>\n",
       "      <td>34998</td>\n",
       "      <td>NaN</td>\n",
       "      <td>1</td>\n",
       "      <td>Apartment</td>\n",
       "      <td>NYC</td>\n",
       "      <td>Lower East Side</td>\n",
       "      <td>40.716069</td>\n",
       "      <td>-73.984385</td>\n",
       "      <td>0</td>\n",
       "      <td>0</td>\n",
       "      <td>...</td>\n",
       "      <td>0</td>\n",
       "      <td>0</td>\n",
       "      <td>0</td>\n",
       "      <td>0</td>\n",
       "      <td>0</td>\n",
       "      <td>0</td>\n",
       "      <td>0</td>\n",
       "      <td>0</td>\n",
       "      <td>0</td>\n",
       "      <td>0</td>\n",
       "    </tr>\n",
       "    <tr>\n",
       "      <th>24999</th>\n",
       "      <td>34999</td>\n",
       "      <td>NaN</td>\n",
       "      <td>0</td>\n",
       "      <td>Apartment</td>\n",
       "      <td>NYC</td>\n",
       "      <td>Hell's Kitchen</td>\n",
       "      <td>40.763915</td>\n",
       "      <td>-73.995141</td>\n",
       "      <td>1</td>\n",
       "      <td>100</td>\n",
       "      <td>...</td>\n",
       "      <td>0</td>\n",
       "      <td>0</td>\n",
       "      <td>0</td>\n",
       "      <td>0</td>\n",
       "      <td>0</td>\n",
       "      <td>0</td>\n",
       "      <td>0</td>\n",
       "      <td>0</td>\n",
       "      <td>0</td>\n",
       "      <td>0</td>\n",
       "    </tr>\n",
       "  </tbody>\n",
       "</table>\n",
       "<p>25000 rows × 52 columns</p>\n",
       "</div>"
      ],
      "text/plain": [
       "          id  preis  endreinigung        typ   stadt          stadtteil  \\\n",
       "0      10000  160.0             1  Apartment      SF         Noe Valley   \n",
       "1      10001  200.0             1  Apartment     NYC  Battery Park City   \n",
       "2      10002   85.0             0  Apartment      LA    Hollywood Hills   \n",
       "3      10003  160.0             1  Apartment     NYC         Greenpoint   \n",
       "4      10004  130.0             1  Apartment     NYC           Kips Bay   \n",
       "...      ...    ...           ...        ...     ...                ...   \n",
       "24995  34995    NaN             1  Apartment      DC         Stronghold   \n",
       "24996  34996    NaN             1  Apartment  Boston          North End   \n",
       "24997  34997    NaN             1  Apartment  Boston         Dorchester   \n",
       "24998  34998    NaN             1  Apartment     NYC    Lower East Side   \n",
       "24999  34999    NaN             0  Apartment     NYC     Hell's Kitchen   \n",
       "\n",
       "             lat         lon  bewertungen  bewertung  ...  badewanne  \\\n",
       "0      37.743109 -122.429418           10         96  ...          0   \n",
       "1      40.718417  -74.015227            4        100  ...          0   \n",
       "2      34.109349 -118.323667            5         92  ...          0   \n",
       "3      40.722155  -73.942034            0          0  ...          0   \n",
       "4      40.740924  -73.979927            2        100  ...          0   \n",
       "...          ...         ...          ...        ...  ...        ...   \n",
       "24995  38.925433  -77.007269          154         96  ...          1   \n",
       "24996  42.364847  -71.052334           94         89  ...          0   \n",
       "24997  42.318314  -71.064099           43         93  ...          0   \n",
       "24998  40.716069  -73.984385            0          0  ...          0   \n",
       "24999  40.763915  -73.995141            1        100  ...          0   \n",
       "\n",
       "       kaffeemaschine  geschirrspueler  ebenerdig  kuehlschrank  rauchen  \\\n",
       "0                   0                0          0             0        0   \n",
       "1                   0                0          0             0        0   \n",
       "2                   0                0          0             0        0   \n",
       "3                   0                0          0             0        0   \n",
       "4                   0                0          0             1        0   \n",
       "...               ...              ...        ...           ...      ...   \n",
       "24995               0                0          0             0        0   \n",
       "24996               0                0          0             0        0   \n",
       "24997               1                0          0             1        0   \n",
       "24998               0                0          0             0        0   \n",
       "24999               0                0          0             0        0   \n",
       "\n",
       "       haustiere  hochstuhl  kinderkrippe  spielekonsole  \n",
       "0              0          0             0              0  \n",
       "1              0          0             0              0  \n",
       "2              0          0             0              0  \n",
       "3              0          0             0              0  \n",
       "4              0          0             0              0  \n",
       "...          ...        ...           ...            ...  \n",
       "24995          0          0             0              1  \n",
       "24996          1          0             0              0  \n",
       "24997          0          0             0              0  \n",
       "24998          0          0             0              0  \n",
       "24999          0          0             0              0  \n",
       "\n",
       "[25000 rows x 52 columns]"
      ]
     },
     "execution_count": 47,
     "metadata": {},
     "output_type": "execute_result"
    }
   ],
   "source": [
    "df"
   ]
  },
  {
   "cell_type": "code",
   "execution_count": 48,
   "metadata": {},
   "outputs": [
    {
     "data": {
      "text/plain": [
       "Index(['id', 'preis', 'endreinigung', 'typ', 'stadt', 'stadtteil', 'lat',\n",
       "       'lon', 'bewertungen', 'bewertung', 'gaeste', 'baeder', 'schlafzimmer',\n",
       "       'betten', 'internet', 'wlan', 'kueche', 'heizung', 'klimaanlage',\n",
       "       'haartrockner', 'familienfreundlich', 'buegeleisen', 'waschmaschine',\n",
       "       'trockner', 'rauchmelder', 'kohlenmonoxidmelder', 'feuerloescher',\n",
       "       'erstehilfekoffer', 'fernsehen', 'kabelfernsehen', 'fruehstueck',\n",
       "       'kamin', 'fahrstuhl', 'pool', 'fitnessstudio', 'whirlpool',\n",
       "       'rollstuhlgeeignet', 'bettwaesche', 'mikrowelle', 'geschirr', 'ofen',\n",
       "       'herd', 'badewanne', 'kaffeemaschine', 'geschirrspueler', 'ebenerdig',\n",
       "       'kuehlschrank', 'rauchen', 'haustiere', 'hochstuhl', 'kinderkrippe',\n",
       "       'spielekonsole'],\n",
       "      dtype='object')"
      ]
     },
     "execution_count": 48,
     "metadata": {},
     "output_type": "execute_result"
    }
   ],
   "source": [
    "df.columns"
   ]
  },
  {
   "cell_type": "code",
   "execution_count": 49,
   "metadata": {},
   "outputs": [
    {
     "data": {
      "text/plain": [
       "array([0, 0, 0, ..., 0, 0, 0])"
      ]
     },
     "execution_count": 49,
     "metadata": {},
     "output_type": "execute_result"
    }
   ],
   "source": [
    "df.stadtteil.fillna(\"Mitte\", inplace=True)\n",
    "\n",
    "df1 = df.copy()\n",
    "\n",
    "df1[\"typ\"]\n",
    "LabelEncoder().fit_transform(df1[\"typ\"])"
   ]
  },
  {
   "cell_type": "code",
   "execution_count": 50,
   "metadata": {},
   "outputs": [],
   "source": [
    "df1[\"typ\"] = LabelEncoder().fit_transform(df1[\"typ\"])\n",
    "df1[\"stadt\"] = LabelEncoder().fit_transform(df1[\"stadt\"])\n",
    "df1[\"stadtteil\"] = LabelEncoder().fit_transform(df1[\"stadtteil\"])"
   ]
  },
  {
   "cell_type": "code",
   "execution_count": 55,
   "metadata": {},
   "outputs": [],
   "source": [
    "traindata = df1.loc[df[\"preis\"].notnull()]"
   ]
  },
  {
   "cell_type": "code",
   "execution_count": 56,
   "metadata": {},
   "outputs": [],
   "source": [
    "train2 = traindata[['endreinigung', 'typ', 'stadt', 'stadtteil', 'lat',\n",
    "       'lon', 'bewertungen', 'bewertung', 'gaeste', 'baeder', 'schlafzimmer',\n",
    "       'betten', 'internet', 'wlan', 'kueche', 'heizung', 'klimaanlage',\n",
    "       'haartrockner', 'familienfreundlich', 'buegeleisen', 'waschmaschine',\n",
    "       'trockner', 'rauchmelder', 'kohlenmonoxidmelder', 'feuerloescher',\n",
    "       'erstehilfekoffer', 'fernsehen', 'kabelfernsehen', 'fruehstueck',\n",
    "       'kamin', 'fahrstuhl', 'pool', 'fitnessstudio', 'whirlpool',\n",
    "       'rollstuhlgeeignet', 'bettwaesche', 'mikrowelle', 'geschirr', 'ofen',\n",
    "       'herd', 'badewanne', 'kaffeemaschine', 'geschirrspueler', 'ebenerdig',\n",
    "       'kuehlschrank', 'rauchen', 'haustiere', 'hochstuhl', 'kinderkrippe',\n",
    "       'spielekonsole']]"
   ]
  },
  {
   "cell_type": "code",
   "execution_count": 57,
   "metadata": {},
   "outputs": [],
   "source": [
    "# regr = make_pipeline(StandardScaler(), RandomForestRegressor())\n",
    "# regr = make_pipeline(StandardScaler(), RandomForestRegressor())\n",
    "regr = make_pipeline(StandardScaler(), RandomForestRegressor())\n"
   ]
  },
  {
   "cell_type": "code",
   "execution_count": 58,
   "metadata": {},
   "outputs": [
    {
     "data": {
      "text/plain": [
       "Pipeline(steps=[('standardscaler', StandardScaler()),\n",
       "                ('randomforestregressor', RandomForestRegressor())])"
      ]
     },
     "execution_count": 58,
     "metadata": {},
     "output_type": "execute_result"
    }
   ],
   "source": [
    "lr = LinearRegression()\n",
    "\n",
    "X_train = train2.values\n",
    " \n",
    "Y_train = traindata[\"preis\"]\n",
    " \n",
    "# lr.fit(X_train,Y_train)  \n",
    "regr.fit(X_train,Y_train)  "
   ]
  },
  {
   "cell_type": "code",
   "execution_count": 59,
   "metadata": {},
   "outputs": [],
   "source": [
    "Y_predict = regr.predict(X_train)\n",
    "\n",
    "diff = Y_predict - Y_train"
   ]
  },
  {
   "cell_type": "code",
   "execution_count": 60,
   "metadata": {},
   "outputs": [
    {
     "data": {
      "text/plain": [
       "(array([0.00000000e+00, 0.00000000e+00, 0.00000000e+00, 0.00000000e+00,\n",
       "        0.00000000e+00, 0.00000000e+00, 0.00000000e+00, 0.00000000e+00,\n",
       "        0.00000000e+00, 0.00000000e+00, 0.00000000e+00, 0.00000000e+00,\n",
       "        0.00000000e+00, 0.00000000e+00, 0.00000000e+00, 2.51990727e-03,\n",
       "        2.39391190e-02, 5.66979135e-02, 1.27255317e-01, 2.43171051e-01,\n",
       "        5.56899506e-01, 1.08859994e+00, 1.87355105e+00, 2.73913920e+00,\n",
       "        3.41069449e+00, 3.30863824e+00, 2.84875517e+00, 2.15704062e+00,\n",
       "        1.59132144e+00, 1.15285757e+00, 8.89527265e-01, 6.47616168e-01,\n",
       "        5.11541175e-01, 3.38927527e-01, 2.91049289e-01, 2.38131237e-01,\n",
       "        1.80173370e-01, 1.29775224e-01, 1.20955549e-01, 8.56768471e-02,\n",
       "        8.31569398e-02, 5.41780062e-02, 6.80374962e-02, 4.66182844e-02,\n",
       "        2.77189799e-02, 3.02388872e-02, 1.51194436e-02, 2.64590263e-02,\n",
       "        2.26791654e-02, 1.13395827e-02]),\n",
       " array([-1.  , -0.96, -0.92, -0.88, -0.84, -0.8 , -0.76, -0.72, -0.68,\n",
       "        -0.64, -0.6 , -0.56, -0.52, -0.48, -0.44, -0.4 , -0.36, -0.32,\n",
       "        -0.28, -0.24, -0.2 , -0.16, -0.12, -0.08, -0.04,  0.  ,  0.04,\n",
       "         0.08,  0.12,  0.16,  0.2 ,  0.24,  0.28,  0.32,  0.36,  0.4 ,\n",
       "         0.44,  0.48,  0.52,  0.56,  0.6 ,  0.64,  0.68,  0.72,  0.76,\n",
       "         0.8 ,  0.84,  0.88,  0.92,  0.96,  1.  ]),\n",
       " <a list of 50 Patch objects>)"
      ]
     },
     "execution_count": 60,
     "metadata": {},
     "output_type": "execute_result"
    },
    {
     "data": {
      "image/png": "[encoded data removed]",
      "text/plain": [
       "<Figure size 432x288 with 1 Axes>"
      ]
     },
     "metadata": {
      "needs_background": "light"
     },
     "output_type": "display_data"
    }
   ],
   "source": [
    "reldiff = (Y_predict - Y_train) / Y_train\n",
    "plt.hist(reldiff, 50, range=(-1, 1), density=True, facecolor='g', alpha=0.75)"
   ]
  },
  {
   "cell_type": "code",
   "execution_count": 61,
   "metadata": {},
   "outputs": [
    {
     "data": {
      "text/plain": [
       "count    20000.000000\n",
       "mean         0.073499\n",
       "std          0.323168\n",
       "min         -0.392553\n",
       "25%         -0.045541\n",
       "50%          0.029135\n",
       "75%          0.130552\n",
       "max         30.488000\n",
       "Name: preis, dtype: float64"
      ]
     },
     "execution_count": 61,
     "metadata": {},
     "output_type": "execute_result"
    }
   ],
   "source": [
    "reldiff.describe()"
   ]
  },
  {
   "cell_type": "code",
   "execution_count": 18,
   "metadata": {},
   "outputs": [
    {
     "data": {
      "text/plain": [
       "count    181572.000000\n",
       "mean          0.074043\n",
       "std           0.337746\n",
       "min          -0.920746\n",
       "25%          -0.076368\n",
       "50%           0.010199\n",
       "75%           0.140508\n",
       "max          22.846620\n",
       "Name: preis, dtype: float64"
      ]
     },
     "execution_count": 18,
     "metadata": {},
     "output_type": "execute_result"
    }
   ],
   "source": [
    "reldiff.describe()"
   ]
  },
  {
   "cell_type": "code",
   "execution_count": 62,
   "metadata": {},
   "outputs": [],
   "source": [
    "testdata = df1.loc[df[\"preis\"].isnull()]\n",
    "\n",
    "test2 = testdata[['endreinigung', 'typ', 'stadt', 'stadtteil', 'lat',\n",
    "       'lon', 'bewertungen', 'bewertung', 'gaeste', 'baeder', 'schlafzimmer',\n",
    "       'betten', 'internet', 'wlan', 'kueche', 'heizung', 'klimaanlage',\n",
    "       'haartrockner', 'familienfreundlich', 'buegeleisen', 'waschmaschine',\n",
    "       'trockner', 'rauchmelder', 'kohlenmonoxidmelder', 'feuerloescher',\n",
    "       'erstehilfekoffer', 'fernsehen', 'kabelfernsehen', 'fruehstueck',\n",
    "       'kamin', 'fahrstuhl', 'pool', 'fitnessstudio', 'whirlpool',\n",
    "       'rollstuhlgeeignet', 'bettwaesche', 'mikrowelle', 'geschirr', 'ofen',\n",
    "       'herd', 'badewanne', 'kaffeemaschine', 'geschirrspueler', 'ebenerdig',\n",
    "       'kuehlschrank', 'rauchen', 'haustiere', 'hochstuhl', 'kinderkrippe',\n",
    "       'spielekonsole']]"
   ]
  },
  {
   "cell_type": "code",
   "execution_count": 63,
   "metadata": {},
   "outputs": [],
   "source": [
    "\n",
    "Y = regr.predict(test2.values)"
   ]
  },
  {
   "cell_type": "code",
   "execution_count": 64,
   "metadata": {},
   "outputs": [
    {
     "data": {
      "text/plain": [
       "count    5000.000000\n",
       "mean      219.225074\n",
       "std       146.277789\n",
       "min        72.060000\n",
       "25%       132.805000\n",
       "50%       175.190000\n",
       "75%       242.945000\n",
       "max      1483.440000\n",
       "Name: preis, dtype: float64"
      ]
     },
     "execution_count": 64,
     "metadata": {},
     "output_type": "execute_result"
    }
   ],
   "source": [
    "solution = pd.DataFrame({\"id\": testdata[\"id\"], \"preis\": Y})\n",
    "solution.preis.describe()"
   ]
  },
  {
   "cell_type": "code",
   "execution_count": 65,
   "metadata": {},
   "outputs": [
    {
     "data": {
      "text/plain": [
       "array([30002.  ,   172.88])"
      ]
     },
     "execution_count": 65,
     "metadata": {},
     "output_type": "execute_result"
    }
   ],
   "source": [
    "svs = solution.values\n",
    "\n",
    "svs[:10][2]"
   ]
  },
  {
   "cell_type": "code",
   "execution_count": 67,
   "metadata": {},
   "outputs": [],
   "source": [
    "with open(\"airbooking_solution1.txt\", \"w\") as f:\n",
    "    f.write(\"7a0915b82339cd78ad21718c2a8cc84569c46a01b5d84bf14cdc8b671ef96512\\n\")\n",
    "    f.write(\"ab-test1\\n\")\n",
    "    f.write(\"\\n\".join([str(int(line[0])) + \" \" + str(int(line[1])) for line in svs]) + \"\\n\")"
   ]
  },
  {
   "cell_type": "code",
   "execution_count": null,
   "metadata": {},
   "outputs": [],
   "source": []
  }
 ],
 "metadata": {
  "kernelspec": {
   "display_name": "Python 3",
   "language": "python",
   "name": "python3"
  },
  "language_info": {
   "codemirror_mode": {
    "name": "ipython",
    "version": 3
   },
   "file_extension": ".py",
   "mimetype": "text/x-python",
   "name": "python",
   "nbconvert_exporter": "python",
   "pygments_lexer": "ipython3",
   "version": "3.8.3"
  }
 },
 "nbformat": 4,
 "nbformat_minor": 4
}
